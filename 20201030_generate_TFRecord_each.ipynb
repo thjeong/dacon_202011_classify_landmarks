{
 "cells": [
  {
   "cell_type": "markdown",
   "metadata": {
    "id": "ug_Z28Sv2I9r"
   },
   "source": [
    "# 빠른 학습을 위한 tfrecords 데이터셋 생성\n",
    "- 컴페티션 기본 데이터는 data/public 하위 폴더에 있다고 가정합니다. (train.csv, sample_submission.csv, etc)\n",
    "- 또한 train.zip, test.zip 역시 data/public 하위에 압축을 풀어놓았다고 가정하고 시작하겠습니다."
   ]
  },
  {
   "cell_type": "code",
   "execution_count": 1,
   "metadata": {
    "id": "j1UN3LYJzFgd"
   },
   "outputs": [],
   "source": [
    "import os\n",
    "import os.path as pth\n",
    "import json\n",
    "import shutil\n",
    "import pandas as pd\n",
    "from tqdm import tqdm\n",
    "\n",
    "data_base_path = pth.join('data', 'public') \n",
    "os.makedirs(data_base_path, exist_ok=True)"
   ]
  },
  {
   "cell_type": "code",
   "execution_count": 2,
   "metadata": {
    "id": "Ks1l_51cNzLP"
   },
   "outputs": [],
   "source": [
    "category_csv_name = 'category.csv'\n",
    "category_json_name = 'category.json'\n",
    "submission_csv_name = 'sample_submisstion.csv'\n",
    "train_csv_name = 'train.csv'\n",
    "\n",
    "train_zip_name = 'train.zip'\n",
    "test_zip_name = 'test.zip'"
   ]
  },
  {
   "cell_type": "markdown",
   "metadata": {
    "id": "jtNoALHEonCe"
   },
   "source": [
    "일단 모든 jpg 파일을 한 경로에 놓고 작업하기 편하게 하는 방식입니다.  \n",
    "파일이 많다보니 파일 옮기는 작업을 쉘 한줄로 하려니 명령어가 너무 길어져 오류가 발생힙니다.  \n",
    "조금 번거롭더라도 하나씩 가져와서 한 경로 이하에 놓도록 하였습니다."
   ]
  },
  {
   "cell_type": "code",
   "execution_count": 3,
   "metadata": {
    "id": "hSDh0plSRcZo"
   },
   "outputs": [],
   "source": [
    "train_data_path = pth.join(data_base_path, 'train')\n",
    "test_data_path = pth.join(data_base_path, 'test')"
   ]
  },
  {
   "cell_type": "code",
   "execution_count": 3,
   "metadata": {
    "id": "hSDh0plSRcZo"
   },
   "outputs": [],
   "source": [
    "if not pth.exists(train_data_path):\n",
    "    os.system('unzip {}/{} -d {}'.format(data_base_path, train_zip_name, train_data_path))\n",
    "    # os.system('mv {}/*/*/* {}'.format(train_data_path, train_data_path))\n",
    "    place_name_list = [name for name in os.listdir(train_data_path) if not name.endswith('.JPG')]\n",
    "    for place_name in place_name_list:\n",
    "        place_fullpath = pth.join(train_data_path, place_name)\n",
    "        landmark_name_list = os.listdir(place_fullpath)\n",
    "        for landmark_name in landmark_name_list:\n",
    "            landmark_fullpath = pth.join(place_fullpath, landmark_name)\n",
    "            image_name_list = os.listdir(landmark_fullpath)\n",
    "            for image_name in image_name_list:\n",
    "                image_fullpath = pth.join(landmark_fullpath, image_name)\n",
    "                if not image_fullpath.endswith('.JPG'):\n",
    "                    continue\n",
    "                shutil.move(image_fullpath, train_data_path)\n",
    "\n",
    "if not pth.exists(test_data_path):\n",
    "    os.system('unzip {}/{} -d {}'.format(data_base_path, test_zip_name, test_data_path))\n",
    "    # os.system('mv {}/*/* {}'.format(test_data_path, test_data_path))\n",
    "    temp_name_list = [name for name in os.listdir(test_data_path) if not name.endswith('.JPG')]\n",
    "    for temp_name in temp_name_list:\n",
    "        temp_fullpath = pth.join(test_data_path, temp_name)\n",
    "        image_name_list = os.listdir(temp_fullpath)\n",
    "        for image_name in image_name_list:\n",
    "            image_fullpath = pth.join(temp_fullpath, image_name)\n",
    "            if not image_fullpath.endswith('.JPG'):\n",
    "                continue\n",
    "            shutil.move(image_fullpath, test_data_path)"
   ]
  },
  {
   "cell_type": "code",
   "execution_count": 4,
   "metadata": {
    "colab": {
     "base_uri": "https://localhost:8080/",
     "height": 204
    },
    "id": "MaBBHyX0dMig",
    "outputId": "915b75db-3412-40c5-92db-2465e73875de"
   },
   "outputs": [
    {
     "data": {
      "text/html": [
       "<div>\n",
       "<style scoped>\n",
       "    .dataframe tbody tr th:only-of-type {\n",
       "        vertical-align: middle;\n",
       "    }\n",
       "\n",
       "    .dataframe tbody tr th {\n",
       "        vertical-align: top;\n",
       "    }\n",
       "\n",
       "    .dataframe thead th {\n",
       "        text-align: right;\n",
       "    }\n",
       "</style>\n",
       "<table border=\"1\" class=\"dataframe\">\n",
       "  <thead>\n",
       "    <tr style=\"text-align: right;\">\n",
       "      <th></th>\n",
       "      <th>id</th>\n",
       "      <th>landmark_id</th>\n",
       "    </tr>\n",
       "  </thead>\n",
       "  <tbody>\n",
       "    <tr>\n",
       "      <th>0</th>\n",
       "      <td>동탄_복합문화센터_057</td>\n",
       "      <td>114</td>\n",
       "    </tr>\n",
       "    <tr>\n",
       "      <th>1</th>\n",
       "      <td>동탄_복합문화센터_110</td>\n",
       "      <td>114</td>\n",
       "    </tr>\n",
       "    <tr>\n",
       "      <th>2</th>\n",
       "      <td>동탄_복합문화센터_016</td>\n",
       "      <td>114</td>\n",
       "    </tr>\n",
       "    <tr>\n",
       "      <th>3</th>\n",
       "      <td>동탄_복합문화센터_022</td>\n",
       "      <td>114</td>\n",
       "    </tr>\n",
       "    <tr>\n",
       "      <th>4</th>\n",
       "      <td>동탄_복합문화센터_052</td>\n",
       "      <td>114</td>\n",
       "    </tr>\n",
       "  </tbody>\n",
       "</table>\n",
       "</div>"
      ],
      "text/plain": [
       "              id  landmark_id\n",
       "0  동탄_복합문화센터_057          114\n",
       "1  동탄_복합문화센터_110          114\n",
       "2  동탄_복합문화센터_016          114\n",
       "3  동탄_복합문화센터_022          114\n",
       "4  동탄_복합문화센터_052          114"
      ]
     },
     "execution_count": 4,
     "metadata": {},
     "output_type": "execute_result"
    }
   ],
   "source": [
    "train_csv_path = pth.join(data_base_path, train_csv_name)\n",
    "train_df = pd.read_csv(train_csv_path)\n",
    "train_dict = {k:v for k, v in train_df.values}\n",
    "\n",
    "submission_csv_path = pth.join(data_base_path, submission_csv_name)\n",
    "submission_df = pd.read_csv(submission_csv_path)\n",
    "# submission_df.head()\n",
    "\n",
    "train_df.head()"
   ]
  },
  {
   "cell_type": "code",
   "execution_count": 5,
   "metadata": {
    "colab": {
     "base_uri": "https://localhost:8080/",
     "height": 51
    },
    "id": "C0dsjfo2Btpi",
    "outputId": "7babc6d6-e97a-4e30-c332-45d6e94fe7d4"
   },
   "outputs": [
    {
     "name": "stderr",
     "output_type": "stream",
     "text": [
      "100%|██████████| 88102/88102 [00:00<00:00, 193567.81it/s]\n",
      "100%|██████████| 37964/37964 [00:00<00:00, 332545.77it/s]\n"
     ]
    }
   ],
   "source": [
    "### Check all file is exist\n",
    "\n",
    "for basename in tqdm(train_df['id']):\n",
    "    if not pth.exists(pth.join(train_data_path, basename+'.JPG')):\n",
    "        print(basename)\n",
    "\n",
    "for basename in tqdm(submission_df['id']):\n",
    "    if not pth.exists(pth.join(test_data_path, basename+'.JPG')):\n",
    "        print(basename)        "
   ]
  },
  {
   "cell_type": "code",
   "execution_count": 5,
   "metadata": {
    "colab": {
     "base_uri": "https://localhost:8080/",
     "height": 204
    },
    "id": "AFWeFx08dl8J",
    "outputId": "87344bbd-86ae-45bb-cc51-1424292bc896"
   },
   "outputs": [
    {
     "data": {
      "text/html": [
       "<div>\n",
       "<style scoped>\n",
       "    .dataframe tbody tr th:only-of-type {\n",
       "        vertical-align: middle;\n",
       "    }\n",
       "\n",
       "    .dataframe tbody tr th {\n",
       "        vertical-align: top;\n",
       "    }\n",
       "\n",
       "    .dataframe thead th {\n",
       "        text-align: right;\n",
       "    }\n",
       "</style>\n",
       "<table border=\"1\" class=\"dataframe\">\n",
       "  <thead>\n",
       "    <tr style=\"text-align: right;\">\n",
       "      <th></th>\n",
       "      <th>landmark_id</th>\n",
       "      <th>landmark_name</th>\n",
       "    </tr>\n",
       "  </thead>\n",
       "  <tbody>\n",
       "    <tr>\n",
       "      <th>0</th>\n",
       "      <td>0</td>\n",
       "      <td>금천구청</td>\n",
       "    </tr>\n",
       "    <tr>\n",
       "      <th>1</th>\n",
       "      <td>1</td>\n",
       "      <td>두리랜드</td>\n",
       "    </tr>\n",
       "    <tr>\n",
       "      <th>2</th>\n",
       "      <td>2</td>\n",
       "      <td>이대원 장군묘</td>\n",
       "    </tr>\n",
       "    <tr>\n",
       "      <th>3</th>\n",
       "      <td>3</td>\n",
       "      <td>성공회대학교</td>\n",
       "    </tr>\n",
       "    <tr>\n",
       "      <th>4</th>\n",
       "      <td>4</td>\n",
       "      <td>송상현공 동상</td>\n",
       "    </tr>\n",
       "  </tbody>\n",
       "</table>\n",
       "</div>"
      ],
      "text/plain": [
       "   landmark_id landmark_name\n",
       "0            0          금천구청\n",
       "1            1          두리랜드\n",
       "2            2       이대원 장군묘\n",
       "3            3        성공회대학교\n",
       "4            4       송상현공 동상"
      ]
     },
     "execution_count": 5,
     "metadata": {},
     "output_type": "execute_result"
    }
   ],
   "source": [
    "category_csv_path = pth.join(data_base_path, category_csv_name)\n",
    "category_df = pd.read_csv(category_csv_path)\n",
    "category_dict = {k:v for k, v in category_df.values}\n",
    "category_df.head()"
   ]
  },
  {
   "cell_type": "code",
   "execution_count": 6,
   "metadata": {
    "id": "m7iQi4_kfXVa"
   },
   "outputs": [],
   "source": [
    "# category_json_path = pth.join(data_base_path, category_json_name)\n",
    "# with open(category_json_path) as f:\n",
    "#     category_dict = json.load(f)\n",
    "# category_dict"
   ]
  },
  {
   "cell_type": "markdown",
   "metadata": {
    "id": "M9_IpZPsdFOj"
   },
   "source": [
    "## 2. 추출한 csv와 생성한 이미지를 기반으로 tfrecord 생성"
   ]
  },
  {
   "cell_type": "markdown",
   "metadata": {
    "id": "qNkMHhTRdken"
   },
   "source": [
    "데이터를 읽는 오버헤드를 줄이기 위해 학습 데이터를 tfrecord형태로 새로 생성합니다"
   ]
  },
  {
   "cell_type": "code",
   "execution_count": 8,
   "metadata": {},
   "outputs": [
    {
     "name": "stdout",
     "output_type": "stream",
     "text": [
      "Collecting tensorflow\n",
      "  Downloading tensorflow-2.3.1-cp38-cp38-manylinux2010_x86_64.whl (320.5 MB)\n",
      "\u001b[K     |████████████████████████████████| 320.5 MB 20 kB/s s eta 0:00:01     |█████████████▍                  | 134.6 MB 10.7 MB/s eta 0:00:18     |█████████████████████████████▍  | 294.1 MB 11.8 MB/s eta 0:00:03\n",
      "\u001b[?25hCollecting opt-einsum>=2.3.2\n",
      "  Downloading opt_einsum-3.3.0-py3-none-any.whl (65 kB)\n",
      "\u001b[K     |████████████████████████████████| 65 kB 6.0 MB/s  eta 0:00:01\n",
      "\u001b[?25hCollecting protobuf>=3.9.2\n",
      "  Downloading protobuf-3.13.0-cp38-cp38-manylinux1_x86_64.whl (1.3 MB)\n",
      "\u001b[K     |████████████████████████████████| 1.3 MB 10.8 MB/s eta 0:00:01\n",
      "\u001b[?25hRequirement already satisfied: wrapt>=1.11.1 in /home/xikizima/anaconda3/lib/python3.8/site-packages (from tensorflow) (1.11.2)\n",
      "Requirement already satisfied: six>=1.12.0 in /home/xikizima/anaconda3/lib/python3.8/site-packages (from tensorflow) (1.15.0)\n",
      "Collecting gast==0.3.3\n",
      "  Downloading gast-0.3.3-py2.py3-none-any.whl (9.7 kB)\n",
      "Collecting grpcio>=1.8.6\n",
      "  Downloading grpcio-1.33.2-cp38-cp38-manylinux2014_x86_64.whl (3.8 MB)\n",
      "\u001b[K     |████████████████████████████████| 3.8 MB 9.1 MB/s eta 0:00:01\n",
      "\u001b[?25hCollecting google-pasta>=0.1.8\n",
      "  Downloading google_pasta-0.2.0-py3-none-any.whl (57 kB)\n",
      "\u001b[K     |████████████████████████████████| 57 kB 6.6 MB/s  eta 0:00:01\n",
      "\u001b[?25hCollecting absl-py>=0.7.0\n",
      "  Downloading absl_py-0.11.0-py3-none-any.whl (127 kB)\n",
      "\u001b[K     |████████████████████████████████| 127 kB 11.0 MB/s eta 0:00:01\n",
      "\u001b[?25hCollecting astunparse==1.6.3\n",
      "  Downloading astunparse-1.6.3-py2.py3-none-any.whl (12 kB)\n",
      "Collecting termcolor>=1.1.0\n",
      "  Downloading termcolor-1.1.0.tar.gz (3.9 kB)\n",
      "Requirement already satisfied: wheel>=0.26 in /home/xikizima/anaconda3/lib/python3.8/site-packages (from tensorflow) (0.34.2)\n",
      "Requirement already satisfied: h5py<2.11.0,>=2.10.0 in /home/xikizima/anaconda3/lib/python3.8/site-packages (from tensorflow) (2.10.0)\n",
      "Collecting keras-preprocessing<1.2,>=1.1.1\n",
      "  Downloading Keras_Preprocessing-1.1.2-py2.py3-none-any.whl (42 kB)\n",
      "\u001b[K     |████████████████████████████████| 42 kB 2.1 MB/s  eta 0:00:01\n",
      "\u001b[?25hCollecting tensorflow-estimator<2.4.0,>=2.3.0\n",
      "  Downloading tensorflow_estimator-2.3.0-py2.py3-none-any.whl (459 kB)\n",
      "\u001b[K     |████████████████████████████████| 459 kB 13.3 MB/s eta 0:00:01\n",
      "\u001b[?25hCollecting tensorboard<3,>=2.3.0\n",
      "  Downloading tensorboard-2.3.0-py3-none-any.whl (6.8 MB)\n",
      "\u001b[K     |████████████████████████████████| 6.8 MB 9.0 MB/s eta 0:00:01\n",
      "\u001b[?25hRequirement already satisfied: numpy<1.19.0,>=1.16.0 in /home/xikizima/anaconda3/lib/python3.8/site-packages (from tensorflow) (1.18.5)\n",
      "Requirement already satisfied: setuptools in /home/xikizima/anaconda3/lib/python3.8/site-packages (from protobuf>=3.9.2->tensorflow) (49.2.0.post20200714)\n",
      "Collecting google-auth<2,>=1.6.3\n",
      "  Downloading google_auth-1.23.0-py2.py3-none-any.whl (114 kB)\n",
      "\u001b[K     |████████████████████████████████| 114 kB 11.9 MB/s eta 0:00:01\n",
      "\u001b[?25hRequirement already satisfied: werkzeug>=0.11.15 in /home/xikizima/anaconda3/lib/python3.8/site-packages (from tensorboard<3,>=2.3.0->tensorflow) (1.0.1)\n",
      "Collecting markdown>=2.6.8\n",
      "  Downloading Markdown-3.3.3-py3-none-any.whl (96 kB)\n",
      "\u001b[K     |████████████████████████████████| 96 kB 8.8 MB/s  eta 0:00:01\n",
      "\u001b[?25hRequirement already satisfied: requests<3,>=2.21.0 in /home/xikizima/anaconda3/lib/python3.8/site-packages (from tensorboard<3,>=2.3.0->tensorflow) (2.24.0)\n",
      "Collecting tensorboard-plugin-wit>=1.6.0\n",
      "  Downloading tensorboard_plugin_wit-1.7.0-py3-none-any.whl (779 kB)\n",
      "\u001b[K     |████████████████████████████████| 779 kB 15.1 MB/s eta 0:00:01\n",
      "\u001b[?25hCollecting google-auth-oauthlib<0.5,>=0.4.1\n",
      "  Downloading google_auth_oauthlib-0.4.2-py2.py3-none-any.whl (18 kB)\n",
      "Collecting rsa<5,>=3.1.4; python_version >= \"3.5\"\n",
      "  Downloading rsa-4.6-py3-none-any.whl (47 kB)\n",
      "\u001b[K     |████████████████████████████████| 47 kB 4.5 MB/s eta 0:00:011\n",
      "\u001b[?25hCollecting pyasn1-modules>=0.2.1\n",
      "  Downloading pyasn1_modules-0.2.8-py2.py3-none-any.whl (155 kB)\n",
      "\u001b[K     |████████████████████████████████| 155 kB 12.2 MB/s eta 0:00:01\n",
      "\u001b[?25hCollecting cachetools<5.0,>=2.0.0\n",
      "  Downloading cachetools-4.1.1-py3-none-any.whl (10 kB)\n",
      "Requirement already satisfied: idna<3,>=2.5 in /home/xikizima/anaconda3/lib/python3.8/site-packages (from requests<3,>=2.21.0->tensorboard<3,>=2.3.0->tensorflow) (2.10)\n",
      "Requirement already satisfied: certifi>=2017.4.17 in /home/xikizima/anaconda3/lib/python3.8/site-packages (from requests<3,>=2.21.0->tensorboard<3,>=2.3.0->tensorflow) (2020.6.20)\n",
      "Requirement already satisfied: chardet<4,>=3.0.2 in /home/xikizima/anaconda3/lib/python3.8/site-packages (from requests<3,>=2.21.0->tensorboard<3,>=2.3.0->tensorflow) (3.0.4)\n",
      "Requirement already satisfied: urllib3!=1.25.0,!=1.25.1,<1.26,>=1.21.1 in /home/xikizima/anaconda3/lib/python3.8/site-packages (from requests<3,>=2.21.0->tensorboard<3,>=2.3.0->tensorflow) (1.25.9)\n",
      "Collecting requests-oauthlib>=0.7.0\n",
      "  Downloading requests_oauthlib-1.3.0-py2.py3-none-any.whl (23 kB)\n",
      "Collecting pyasn1>=0.1.3\n",
      "  Downloading pyasn1-0.4.8-py2.py3-none-any.whl (77 kB)\n",
      "\u001b[K     |████████████████████████████████| 77 kB 6.8 MB/s  eta 0:00:01\n",
      "\u001b[?25hCollecting oauthlib>=3.0.0\n",
      "  Downloading oauthlib-3.1.0-py2.py3-none-any.whl (147 kB)\n",
      "\u001b[K     |████████████████████████████████| 147 kB 13.4 MB/s eta 0:00:01\n",
      "\u001b[?25hBuilding wheels for collected packages: termcolor\n",
      "  Building wheel for termcolor (setup.py) ... \u001b[?25ldone\n",
      "\u001b[?25h  Created wheel for termcolor: filename=termcolor-1.1.0-py3-none-any.whl size=4830 sha256=8ee08ec9e1017d7fafe356d7842cdc9a6cdeb9087969dd694876a843c21290f1\n",
      "  Stored in directory: /home/xikizima/.cache/pip/wheels/a0/16/9c/5473df82468f958445479c59e784896fa24f4a5fc024b0f501\n",
      "Successfully built termcolor\n",
      "Installing collected packages: opt-einsum, protobuf, gast, grpcio, google-pasta, absl-py, astunparse, termcolor, keras-preprocessing, tensorflow-estimator, pyasn1, rsa, pyasn1-modules, cachetools, google-auth, markdown, tensorboard-plugin-wit, oauthlib, requests-oauthlib, google-auth-oauthlib, tensorboard, tensorflow\n",
      "Successfully installed absl-py-0.11.0 astunparse-1.6.3 cachetools-4.1.1 gast-0.3.3 google-auth-1.23.0 google-auth-oauthlib-0.4.2 google-pasta-0.2.0 grpcio-1.33.2 keras-preprocessing-1.1.2 markdown-3.3.3 oauthlib-3.1.0 opt-einsum-3.3.0 protobuf-3.13.0 pyasn1-0.4.8 pyasn1-modules-0.2.8 requests-oauthlib-1.3.0 rsa-4.6 tensorboard-2.3.0 tensorboard-plugin-wit-1.7.0 tensorflow-2.3.1 tensorflow-estimator-2.3.0 termcolor-1.1.0\n"
     ]
    }
   ],
   "source": [
    "!pip install tensorflow"
   ]
  },
  {
   "cell_type": "code",
   "execution_count": 11,
   "metadata": {},
   "outputs": [
    {
     "name": "stdout",
     "output_type": "stream",
     "text": [
      "Collecting opencv-python\n",
      "  Downloading opencv_python-4.4.0.46-cp38-cp38-manylinux2014_x86_64.whl (49.5 MB)\n",
      "\u001b[K     |████████████████████████████████| 49.5 MB 1.1 MB/s eta 0:00:01     |███████▎                        | 11.2 MB 767 kB/s eta 0:00:50\n",
      "\u001b[?25hRequirement already satisfied: numpy>=1.17.3 in /home/xikizima/anaconda3/lib/python3.8/site-packages (from opencv-python) (1.18.5)\n",
      "Installing collected packages: opencv-python\n",
      "Successfully installed opencv-python-4.4.0.46\n"
     ]
    }
   ],
   "source": [
    "!pip install opencv-python"
   ]
  },
  {
   "cell_type": "code",
   "execution_count": 6,
   "metadata": {
    "id": "Q9-4T5OMcy1R"
   },
   "outputs": [],
   "source": [
    "import tensorflow as tf\n",
    "from tensorflow.keras.preprocessing import image\n",
    "import cv2\n",
    "\n",
    "import matplotlib.pyplot as plt\n",
    "from PIL import Image\n",
    "\n",
    "from sklearn.model_selection import train_test_split, KFold, RepeatedKFold, GroupKFold, RepeatedStratifiedKFold\n",
    "from sklearn.utils import shuffle\n",
    "\n",
    "import numpy as np\n",
    "import pandas as pd\n",
    "import os\n",
    "import os.path as pth\n",
    "import shutil\n",
    "import time\n",
    "from tqdm import tqdm\n",
    "\n",
    "import numpy as np\n",
    "from PIL import Image\n",
    "\n",
    "from IPython.display import clear_output\n",
    "\n",
    "from multiprocessing import Process, Queue\n",
    "import datetime"
   ]
  },
  {
   "cell_type": "code",
   "execution_count": 7,
   "metadata": {
    "id": "h5HgyCFrfSU5"
   },
   "outputs": [],
   "source": [
    "def _bytes_feature(value):\n",
    "    \"\"\"Returns a bytes_list from a string / byte.\"\"\"\n",
    "    if isinstance(value, type(tf.constant(0))):\n",
    "        value = value.numpy() # BytesList won't unpack a string from an EagerTensor.\n",
    "    return tf.train.Feature(bytes_list=tf.train.BytesList(value=[value]))\n",
    "\n",
    "def _float_feature(value):\n",
    "    \"\"\"Returns a float_list from a float / double.\"\"\"\n",
    "    return tf.train.Feature(float_list=tf.train.FloatList(value=[value]))\n",
    "\n",
    "def _floatarray_feature(array):\n",
    "    \"\"\"Returns a float_list from a float / double.\"\"\"\n",
    "    return tf.train.Feature(float_list=tf.train.FloatList(value=array))\n",
    "\n",
    "def _int64_feature(value):\n",
    "    \"\"\"Returns an int64_list from a bool / enum / int / uint.\"\"\"\n",
    "    return tf.train.Feature(int64_list=tf.train.Int64List(value=[value]))\n",
    "\n",
    "\n",
    "def _validate_text(text):\n",
    "    \"\"\"If text is not str or unicode, then try to convert it to str.\"\"\"\n",
    "    if isinstance(text, str):\n",
    "        return text\n",
    "    elif isinstance(text, 'unicode'):\n",
    "        return text.encode('utf8', 'ignore')\n",
    "    else:\n",
    "        return str(text)\n",
    "\n",
    "def to_tfrecords(id_list, landmark_id_list, tfrecords_path):\n",
    "    print(\"Start converting\")\n",
    "    #options = tf.io.TFRecordOptions(compression_type = 'GZIP')\n",
    "    for id_, landmark_id in tqdm(zip(id_list, landmark_id_list), total=len(id_list), position=0, leave=True):\n",
    "        with tf.io.TFRecordWriter(path=pth.join(tfrecords_path, id_+'.tfrec')) as writer:\n",
    "            image_path = pth.join(train_data_path, id_ + '.JPG')\n",
    "            _binary_image = tf.io.read_file(image_path)\n",
    "\n",
    "            string_set = tf.train.Example(features=tf.train.Features(feature={\n",
    "                'image_raw': _bytes_feature(_binary_image),\n",
    "                'landmark_id': _int64_feature(landmark_id),\n",
    "                'id': _bytes_feature(id_.encode()),\n",
    "            }))\n",
    "\n",
    "            writer.write(string_set.SerializeToString())    \n",
    "\n",
    "def to_tfrecords_test(id_list, tfrecords_path):\n",
    "    print(\"Start converting\")\n",
    "    #options = tf.io.TFRecordOptions(compression_type = 'GZIP')\n",
    "    for id_ in tqdm(id_list, total=len(id_list), position=0, leave=True):\n",
    "    #for id_, randmark_id in tqdm(zip(id_list, randmark_id_list), total=len(id_list), position=0, leave=True):\n",
    "        with tf.io.TFRecordWriter(path=pth.join(tfrecords_path, id_+'.tfrec')) as writer:\n",
    "            image_path = pth.join(test_data_path, id_ + '.JPG')\n",
    "            _binary_image = tf.io.read_file(image_path)\n",
    "\n",
    "            string_set = tf.train.Example(features=tf.train.Features(feature={\n",
    "                'image_raw': _bytes_feature(_binary_image),\n",
    "                #'randmark_id': _int64_feature(randmark_id),\n",
    "                'id': _bytes_feature(id_.encode()),\n",
    "            }))\n",
    "\n",
    "            writer.write(string_set.SerializeToString())    "
   ]
  },
  {
   "cell_type": "code",
   "execution_count": null,
   "metadata": {},
   "outputs": [],
   "source": []
  },
  {
   "cell_type": "code",
   "execution_count": 8,
   "metadata": {},
   "outputs": [],
   "source": [
    "train_ids, train_landmark_ids = train_df['id'], train_df['landmark_id']"
   ]
  },
  {
   "cell_type": "code",
   "execution_count": 9,
   "metadata": {},
   "outputs": [],
   "source": [
    "path_to_tfrec_train = pth.join(data_base_path, 'train_tfrec')\n",
    "path_to_tfrec_test = pth.join(data_base_path, 'test_tfrec')\n",
    "os.makedirs(path_to_tfrec_train, exist_ok=True)\n",
    "os.makedirs(path_to_tfrec_test, exist_ok=True)"
   ]
  },
  {
   "cell_type": "code",
   "execution_count": 10,
   "metadata": {},
   "outputs": [
    {
     "name": "stderr",
     "output_type": "stream",
     "text": [
      "\r",
      "  0%|          | 0/88102 [00:00<?, ?it/s]"
     ]
    },
    {
     "name": "stdout",
     "output_type": "stream",
     "text": [
      "Start converting\n"
     ]
    },
    {
     "name": "stderr",
     "output_type": "stream",
     "text": [
      "100%|██████████| 88102/88102 [02:10<00:00, 673.93it/s] \n"
     ]
    }
   ],
   "source": [
    "to_tfrecords(train_ids, train_landmark_ids, path_to_tfrec_train)"
   ]
  },
  {
   "cell_type": "code",
   "execution_count": 11,
   "metadata": {},
   "outputs": [
    {
     "name": "stderr",
     "output_type": "stream",
     "text": [
      "  0%|          | 42/37964 [00:00<01:30, 418.36it/s]"
     ]
    },
    {
     "name": "stdout",
     "output_type": "stream",
     "text": [
      "Start converting\n"
     ]
    },
    {
     "name": "stderr",
     "output_type": "stream",
     "text": [
      "100%|██████████| 37964/37964 [01:06<00:00, 568.75it/s]\n"
     ]
    }
   ],
   "source": [
    "test_ids = submission_df['id']\n",
    "to_tfrecords_test(test_ids, path_to_tfrec_test)"
   ]
  },
  {
   "cell_type": "code",
   "execution_count": null,
   "metadata": {},
   "outputs": [],
   "source": []
  },
  {
   "cell_type": "code",
   "execution_count": null,
   "metadata": {},
   "outputs": [],
   "source": []
  },
  {
   "cell_type": "code",
   "execution_count": null,
   "metadata": {},
   "outputs": [],
   "source": []
  },
  {
   "cell_type": "code",
   "execution_count": null,
   "metadata": {},
   "outputs": [],
   "source": []
  },
  {
   "cell_type": "markdown",
   "metadata": {
    "id": "YV7jG6Upm7cU"
   },
   "source": [
    "Training 때 사용할 validation을 분리합니다. (Train:0.8, Validation:0.2)  "
   ]
  },
  {
   "cell_type": "code",
   "execution_count": 14,
   "metadata": {
    "colab": {
     "base_uri": "https://localhost:8080/",
     "height": 85
    },
    "id": "rEoqxczVdtTx",
    "outputId": "c2056f03-d6c4-4fce-e69e-77ef999cea5d"
   },
   "outputs": [
    {
     "name": "stderr",
     "output_type": "stream",
     "text": [
      "  0%|          | 3/70481 [00:00<41:27, 28.33it/s]"
     ]
    },
    {
     "name": "stdout",
     "output_type": "stream",
     "text": [
      "Start converting\n"
     ]
    },
    {
     "name": "stderr",
     "output_type": "stream",
     "text": [
      "100%|██████████| 70481/70481 [10:08<00:00, 115.91it/s]\n",
      "  0%|          | 12/17621 [00:00<02:36, 112.72it/s]"
     ]
    },
    {
     "name": "stdout",
     "output_type": "stream",
     "text": [
      "Start converting\n"
     ]
    },
    {
     "name": "stderr",
     "output_type": "stream",
     "text": [
      "100%|██████████| 17621/17621 [02:28<00:00, 118.57it/s]\n"
     ]
    }
   ],
   "source": [
    "train_ids, val_ids, train_landmark_ids, val_landmark_ids = train_test_split(train_df['id'], train_df['landmark_id'], test_size=0.2, random_state=7777, shuffle=True)\n",
    "\n",
    "to_tfrecords(train_ids, train_landmark_ids, pth.join(data_base_path, 'all_train'))\n",
    "to_tfrecords(val_ids, val_landmark_ids, pth.join(data_base_path, 'all_val'))"
   ]
  },
  {
   "cell_type": "markdown",
   "metadata": {
    "id": "rAdjMVdprEtS"
   },
   "source": [
    "Testset 또한 속도를 위해 tfrecord 형태로 변환해줍니다."
   ]
  },
  {
   "cell_type": "code",
   "execution_count": 15,
   "metadata": {
    "id": "wHY2q45PSXfH"
   },
   "outputs": [],
   "source": [
    "def to_test_tfrecords(id_list, tfrecords_name):\n",
    "    print(\"Start converting\")\n",
    "    options = tf.io.TFRecordOptions(compression_type = 'GZIP')\n",
    "    with tf.io.TFRecordWriter(path=pth.join(tfrecords_name+'.tfrecords'), options=options) as writer:\n",
    "        for id_ in tqdm(id_list, total=len(id_list), position=0, leave=True):\n",
    "            image_path = pth.join(test_data_path, id_+'.JPG')\n",
    "            _binary_image = tf.io.read_file(image_path)\n",
    "\n",
    "            string_set = tf.train.Example(features=tf.train.Features(feature={\n",
    "                'image_raw': _bytes_feature(_binary_image),\n",
    "                # 'randmark_id': _int64_feature(randmark_id),\n",
    "                'id': _bytes_feature(id_.encode()),\n",
    "            }))\n",
    "\n",
    "            writer.write(string_set.SerializeToString())    "
   ]
  },
  {
   "cell_type": "code",
   "execution_count": 16,
   "metadata": {
    "colab": {
     "base_uri": "https://localhost:8080/",
     "height": 51
    },
    "id": "yZMv6MEzSl7O",
    "outputId": "50b9abc0-d209-408f-85af-d6b394b5f826"
   },
   "outputs": [
    {
     "name": "stderr",
     "output_type": "stream",
     "text": [
      "  0%|          | 15/37964 [00:00<04:19, 145.99it/s]"
     ]
    },
    {
     "name": "stdout",
     "output_type": "stream",
     "text": [
      "Start converting\n"
     ]
    },
    {
     "name": "stderr",
     "output_type": "stream",
     "text": [
      "100%|██████████| 37964/37964 [05:02<00:00, 125.70it/s]\n"
     ]
    }
   ],
   "source": [
    "test_ids = submission_df['id']\n",
    "to_test_tfrecords(test_ids, pth.join(data_base_path, 'test'))"
   ]
  },
  {
   "cell_type": "code",
   "execution_count": null,
   "metadata": {
    "id": "fdkU2A6D3d14"
   },
   "outputs": [],
   "source": []
  },
  {
   "cell_type": "markdown",
   "metadata": {
    "id": "Q-mDDQD5Fyw-"
   },
   "source": [
    "### Usage"
   ]
  },
  {
   "cell_type": "code",
   "execution_count": null,
   "metadata": {
    "id": "UATTHLMBFx6w"
   },
   "outputs": [],
   "source": [
    "train_tfrecord_path = pth.join(data_base_path, 'all_train.tfrecords')\n",
    "val_tfrecord_path = pth.join(data_base_path, 'all_val.tfrecords')\n",
    "test_tfrecord_path = pth.join(data_base_path, 'test.tfrecords')\n",
    "\n",
    "BUFFER_SIZE = 256\n",
    "BATCH_SIZE = 64\n",
    "NUM_CLASS = 1049"
   ]
  },
  {
   "cell_type": "code",
   "execution_count": null,
   "metadata": {
    "id": "yXITcq2pF4yK"
   },
   "outputs": [],
   "source": [
    "image_feature_description = {\n",
    "    'image_raw': tf.io.FixedLenFeature([], tf.string),\n",
    "    'landmark_id': tf.io.FixedLenFeature([], tf.int64),\n",
    "    # 'id': tf.io.FixedLenFeature([], tf.string),\n",
    "}\n",
    "\n",
    "def _parse_image_function(example_proto):\n",
    "    return tf.io.parse_single_example(example_proto, image_feature_description)\n",
    "\n",
    "def map_func(target_record):\n",
    "    img = target_record['image_raw']\n",
    "    label = target_record['landmark_id']\n",
    "    img = tf.image.decode_jpeg(img, channels=3)\n",
    "    img = tf.dtypes.cast(img, tf.float32)\n",
    "    return img, label\n",
    "\n",
    "def prep_func(image, label):\n",
    "    result_image = image / 255\n",
    "    # result_image = tf.image.resize(image, (300, 300))\n",
    "    onehot_label = tf.one_hot(label, depth=NUM_CLASS)\n",
    "    return result_image, onehot_label"
   ]
  },
  {
   "cell_type": "code",
   "execution_count": null,
   "metadata": {
    "id": "ufx-bL81GDCq"
   },
   "outputs": [],
   "source": [
    "dataset = tf.data.TFRecordDataset(train_tfrecord_path, compression_type='GZIP')\n",
    "dataset = dataset.map(_parse_image_function, num_parallel_calls=tf.data.experimental.AUTOTUNE)\n",
    "# dataset = dataset.cache()\n",
    "dataset = dataset.map(map_func, num_parallel_calls=tf.data.experimental.AUTOTUNE)\n",
    "dataset = dataset.shuffle(BUFFER_SIZE)\n",
    "dataset = dataset.batch(BATCH_SIZE)\n",
    "dataset = dataset.map(prep_func, num_parallel_calls=tf.data.experimental.AUTOTUNE)\n",
    "dataset = dataset.prefetch(buffer_size=tf.data.experimental.AUTOTUNE)"
   ]
  },
  {
   "cell_type": "code",
   "execution_count": null,
   "metadata": {
    "id": "0PUGJoyocLw5"
   },
   "outputs": [],
   "source": []
  },
  {
   "cell_type": "code",
   "execution_count": null,
   "metadata": {
    "colab": {
     "base_uri": "https://localhost:8080/",
     "height": 119
    },
    "id": "pJAmwP6k7xUK",
    "outputId": "f93f9500-2671-4c4b-ec4b-e0710dc70592"
   },
   "outputs": [
    {
     "data": {
      "text/plain": [
       "array([ 417,  339,  279,  348,  711,  333,  204, 1033,   43,  396,  474,\n",
       "        280,  421,  940, 1018,   24,  939,  732,  798,  564,  698,  585,\n",
       "        623,   61,  797,  714,  504,  613, 1010,  803,  452,  706,  360,\n",
       "        564,   19,  480,  438,  269,  759,   38,  264,   24,  526,  992,\n",
       "        992,  528,   48,  406,  662,  345,  695,  262, 1016,  830,  736,\n",
       "        949,   78,  746,   51,  420,  375,  258,  587,  472])"
      ]
     },
     "execution_count": 26,
     "metadata": {
      "tags": []
     },
     "output_type": "execute_result"
    }
   ],
   "source": [
    "target_class = np.argmax(batch_y.numpy(), axis=1)\n",
    "target_class"
   ]
  },
  {
   "cell_type": "code",
   "execution_count": null,
   "metadata": {
    "colab": {
     "base_uri": "https://localhost:8080/",
     "height": 274
    },
    "id": "IX8TcEzPGXr5",
    "outputId": "60252145-6155-4247-a5f1-03332d427142"
   },
   "outputs": [
    {
     "name": "stdout",
     "output_type": "stream",
     "text": [
      "(64, 540, 960, 3) (64, 1049)\n",
      "서울풍물시장\n"
     ]
    },
    {
     "data": {
      "image/png": "[encoded data removed]",
      "text/plain": [
       "<Figure size 432x288 with 1 Axes>"
      ]
     },
     "metadata": {
      "needs_background": "light",
      "tags": []
     },
     "output_type": "display_data"
    }
   ],
   "source": [
    "for batch_x, batch_y in dataset:\n",
    "    print(batch_x.shape, batch_y.shape)\n",
    "\n",
    "    target_class = np.argmax(batch_y[0].numpy())\n",
    "    print(category_dict[target_class])\n",
    "    plt.figure()\n",
    "    plt.imshow(batch_x[0].numpy())\n",
    "    # plt.title('{}'.format(category_dict[target_class]))\n",
    "    plt.show()\n",
    "\n",
    "    break"
   ]
  },
  {
   "cell_type": "code",
   "execution_count": null,
   "metadata": {
    "id": "6CzFn9EgGZKt"
   },
   "outputs": [],
   "source": []
  },
  {
   "cell_type": "markdown",
   "metadata": {
    "id": "vC7LRzqLkwHY"
   },
   "source": [
    "### TFRecords vs Normal benchmark "
   ]
  },
  {
   "cell_type": "markdown",
   "metadata": {
    "id": "77BBIK8b7Zvp"
   },
   "source": [
    "동일한 조건에서 순수한 파일 I/O 속도만을 비교하기 위해서 cache, prepetch, multiprocess와 같은 속도에 영향을 줄 수 있는 요소는 제외하고 측정하였습니다."
   ]
  },
  {
   "cell_type": "markdown",
   "metadata": {
    "id": "ldS2pbRg9L0C"
   },
   "source": [
    "- TFRecords 사용 시"
   ]
  },
  {
   "cell_type": "code",
   "execution_count": null,
   "metadata": {
    "id": "BIhPeE4BlIxO"
   },
   "outputs": [],
   "source": [
    "get_file(pth.join(data_base_path, 'all_train.tfrecords'))\n",
    "get_file(pth.join(data_base_path, 'all_val.tfrecords'))\n",
    "get_file(pth.join(data_base_path, 'test.tfrecords'))"
   ]
  },
  {
   "cell_type": "code",
   "execution_count": null,
   "metadata": {
    "id": "dvpAvvm0kppd"
   },
   "outputs": [],
   "source": [
    "dataset = tf.data.TFRecordDataset(train_tfrecord_path, compression_type='GZIP')\n",
    "dataset = dataset.map(_parse_image_function)"
   ]
  },
  {
   "cell_type": "code",
   "execution_count": null,
   "metadata": {
    "colab": {
     "base_uri": "https://localhost:8080/",
     "height": 34
    },
    "id": "GIiTYTM82xgJ",
    "outputId": "83cd66c9-a0ad-47e9-a2ab-de6e7946a86a"
   },
   "outputs": [
    {
     "name": "stderr",
     "output_type": "stream",
     "text": [
      "70481it [05:43, 205.02it/s]\n"
     ]
    }
   ],
   "source": [
    "for _ in tqdm(dataset, position=0, leave=True):\n",
    "    pass"
   ]
  },
  {
   "cell_type": "markdown",
   "metadata": {
    "id": "3w9DDIkC9Qs3"
   },
   "source": [
    "- 일반적인 jpg파일 사용 시"
   ]
  },
  {
   "cell_type": "code",
   "execution_count": null,
   "metadata": {
    "id": "325yDoPvlEDz"
   },
   "outputs": [],
   "source": [
    "train_ids, val_ids, train_landmark_ids, val_landmark_ids = train_test_split(train_df['id'], train_df['landmark_id'], test_size=0.2, random_state=7777, shuffle=True)"
   ]
  },
  {
   "cell_type": "code",
   "execution_count": null,
   "metadata": {
    "id": "b7aFufmClIML"
   },
   "outputs": [],
   "source": [
    "def load_image(image_path, label):\n",
    "    img = tf.io.read_file(image_path)\n",
    "    img = tf.image.decode_jpeg(img, channels=3)\n",
    "    img = tf.dtypes.cast(img, tf.float32)\n",
    "    return img, label"
   ]
  },
  {
   "cell_type": "code",
   "execution_count": null,
   "metadata": {
    "id": "bTpkDv0C9FzT"
   },
   "outputs": [],
   "source": [
    "train_tfrecord_array = np.array([pth.join(data_base_path, 'train', img_name+'.JPG') for img_name in train_ids.values])\n",
    "\n",
    "dataset = tf.data.Dataset.from_tensor_slices((train_tfrecord_array, train_landmark_ids))\n",
    "dataset = dataset.map(load_image)"
   ]
  },
  {
   "cell_type": "code",
   "execution_count": null,
   "metadata": {
    "colab": {
     "base_uri": "https://localhost:8080/",
     "height": 34
    },
    "id": "Av5H7xVJ_TAK",
    "outputId": "ecd2ba8a-3fb1-4a23-d4f8-434b6239f36e"
   },
   "outputs": [
    {
     "name": "stderr",
     "output_type": "stream",
     "text": [
      "100%|██████████| 70481/70481 [14:40<00:00, 80.08it/s]\n"
     ]
    }
   ],
   "source": [
    "for _ in tqdm(dataset, position=0, leave=True):\n",
    "    pass"
   ]
  },
  {
   "cell_type": "markdown",
   "metadata": {
    "id": "q4BXdGQJ7_6-"
   },
   "source": [
    "- 결과를 보았을 때, 5분 43초(TFRecords) vs 14분 40초(Normal)로 TFRecord를 사용하는 것이 3배 정도 더 빨랐습니다.  \n",
    "- jpg 이미지가 속도가 더 오래 걸리는 이유는, jpg 방식으로 압축되어 있는 이미지를 raw 이미지로 해독하는데 걸리는 시간으로 인한 오버헤드로 추정됩니다.\n",
    "- 저 같은 경우 MobileNetV2 기반 모델이고, 코랩 T4 VGA 기준 학습 속도가 한 에폭에 8~9분정도 걸리는 상황이는 파일 I/O 속도가 전체 학습 속도에 미치는 영향은 상당히 큰 것으로 생각됩니다.   \n",
    "- 또한 실제 사용에서는 Multiprocessing이나 prefetch와 같은 기능도 같이 사용하기 떄문에 이를 사용해서도 테스트 해보겠습니다."
   ]
  },
  {
   "cell_type": "markdown",
   "metadata": {
    "id": "g8kkhR409V9d"
   },
   "source": [
    "- TFRecords 사용 시"
   ]
  },
  {
   "cell_type": "code",
   "execution_count": null,
   "metadata": {
    "colab": {
     "base_uri": "https://localhost:8080/",
     "height": 34
    },
    "id": "fXkbLdXX_xGc",
    "outputId": "b05f90e1-5b53-44b0-a08a-865ba3b6c0f5"
   },
   "outputs": [
    {
     "name": "stderr",
     "output_type": "stream",
     "text": [
      "70481it [05:43, 205.04it/s]\n"
     ]
    }
   ],
   "source": [
    "dataset = tf.data.TFRecordDataset(train_tfrecord_path, compression_type='GZIP')\n",
    "dataset = dataset.map(_parse_image_function, num_parallel_calls=tf.data.experimental.AUTOTUNE)\n",
    "dataset = dataset.prefetch(buffer_size=tf.data.experimental.AUTOTUNE)\n",
    "\n",
    "for _ in tqdm(dataset, position=0, leave=True):\n",
    "    pass"
   ]
  },
  {
   "cell_type": "markdown",
   "metadata": {
    "id": "Mp4jKJ3m9evi"
   },
   "source": [
    "- 일반적인 jpg로 로딩 시"
   ]
  },
  {
   "cell_type": "code",
   "execution_count": null,
   "metadata": {
    "colab": {
     "base_uri": "https://localhost:8080/",
     "height": 34
    },
    "id": "rcZsXnqk9B6y",
    "outputId": "bcd7fdaf-601e-4c16-bdd7-b0e2206f0cfd"
   },
   "outputs": [
    {
     "name": "stderr",
     "output_type": "stream",
     "text": [
      "100%|██████████| 70481/70481 [05:46<00:00, 203.17it/s]\n"
     ]
    }
   ],
   "source": [
    "dataset = tf.data.Dataset.from_tensor_slices((train_tfrecord_array, train_landmark_ids))\n",
    "dataset = dataset.map(load_image, num_parallel_calls=tf.data.experimental.AUTOTUNE)\n",
    "dataset = dataset.prefetch(buffer_size=tf.data.experimental.AUTOTUNE)\n",
    "\n",
    "for _ in tqdm(dataset, position=0, leave=True):\n",
    "    pass"
   ]
  },
  {
   "cell_type": "markdown",
   "metadata": {
    "id": "7yylnwwrBB-o"
   },
   "source": [
    "- 결과를 보았을 때, 놀랍게도 TFRecord를 사용하는 것과 일반 이미지 로딩 방식이 거의 동일한 시간을 보이는 것을 확인할 수 있습니다.  \n",
    "- 코랩에서는 앞서 언급한 이미지 압축 해제에 대한 오버헤드를 tf.data의 부가기능을 활용하여 충분히 극복할 수 있는 것으로 보입니다.\n",
    "- 또한, TRRecord는 그냥 읽는 것과 동일한 시간이 걸리는 것으로 확인되는데, 이는 TFRecord로 읽는 방식 자체가 파일 I/O 이외에 별다른 오버헤드가 크게 없어서 그런 것으로 추정됩니다."
   ]
  },
  {
   "cell_type": "code",
   "execution_count": null,
   "metadata": {
    "id": "5sVrE3_4C1nC"
   },
   "outputs": [],
   "source": []
  }
 ],
 "metadata": {
  "colab": {
   "collapsed_sections": [],
   "machine_shape": "hm",
   "name": "Copy of Make_tfrecord_data.ipynb",
   "provenance": []
  },
  "kernelspec": {
   "display_name": "Python 3",
   "language": "python",
   "name": "python3"
  },
  "language_info": {
   "codemirror_mode": {
    "name": "ipython",
    "version": 3
   },
   "file_extension": ".py",
   "mimetype": "text/x-python",
   "name": "python",
   "nbconvert_exporter": "python",
   "pygments_lexer": "ipython3",
   "version": "3.8.3"
  }
 },
 "nbformat": 4,
 "nbformat_minor": 1
}
