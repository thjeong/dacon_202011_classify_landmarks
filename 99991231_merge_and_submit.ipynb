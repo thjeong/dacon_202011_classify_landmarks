{
 "cells": [
  {
   "cell_type": "code",
   "execution_count": 1,
   "metadata": {},
   "outputs": [],
   "source": [
    "import numpy as np\n",
    "import pandas as pd\n",
    "from glob import glob\n",
    "import os\n",
    "import os.path as pth\n",
    "import datetime"
   ]
  },
  {
   "cell_type": "code",
   "execution_count": 2,
   "metadata": {},
   "outputs": [],
   "source": [
    "data_base_path = pth.join('data', 'public')\n",
    "submission_csv_name = 'sample_submisstion.csv'\n",
    "\n",
    "submission_base_path = pth.join(data_base_path, 'submission')\n",
    "os.makedirs(submission_base_path, exist_ok=True)"
   ]
  },
  {
   "cell_type": "code",
   "execution_count": 3,
   "metadata": {},
   "outputs": [],
   "source": [
    "dfs = []\n",
    "sources = []\n",
    "for file in glob('./data/public/submission/20201111*'):\n",
    "    sources.append(file.split('_')[1].replace('-for-upload', ''))\n",
    "    dfs.append(pd.read_csv(file))\n",
    "\n",
    "merged_df = pd.concat(dfs)"
   ]
  },
  {
   "cell_type": "code",
   "execution_count": null,
   "metadata": {},
   "outputs": [],
   "source": []
  },
  {
   "cell_type": "code",
   "execution_count": 4,
   "metadata": {},
   "outputs": [],
   "source": [
    "cnt_per_id = merged_df.groupby(by=['id', 'landmark_id'])['id'].count().rename('cnt').to_frame()\n",
    "cnt_per_id['cnt_max'] = cnt_per_id.groupby(by=['id', 'landmark_id'])['cnt'].max()"
   ]
  },
  {
   "cell_type": "code",
   "execution_count": 5,
   "metadata": {},
   "outputs": [],
   "source": [
    "merged_df = pd.merge(merged_df, cnt_per_id, left_on=['id', 'landmark_id'], right_index=True)\n",
    "#merged_df['max'] = merged_df.groupby(by=['id', 'landmark_id'])['cnt'].max()\n",
    "merged_df = merged_df[merged_df['cnt'] == merged_df['cnt_max']]\n",
    "merged_df = merged_df.groupby(by='id').apply(lambda x: x.nlargest(1, columns=['conf']))[['id', 'landmark_id', 'conf']]\n",
    "merged_df.reset_index(drop=True, inplace=True)"
   ]
  },
  {
   "cell_type": "code",
   "execution_count": null,
   "metadata": {},
   "outputs": [],
   "source": []
  },
  {
   "cell_type": "code",
   "execution_count": 6,
   "metadata": {},
   "outputs": [],
   "source": [
    "# load template\n",
    "submission_csv_path = pth.join(data_base_path, submission_csv_name)\n",
    "submission_df = pd.read_csv(submission_csv_path)\n",
    "\n",
    "del submission_df['landmark_id']\n",
    "del submission_df['conf']"
   ]
  },
  {
   "cell_type": "code",
   "execution_count": 7,
   "metadata": {},
   "outputs": [],
   "source": [
    "submission_df = pd.merge(submission_df, merged_df, on=['id'], how='left')"
   ]
  },
  {
   "cell_type": "code",
   "execution_count": 8,
   "metadata": {},
   "outputs": [],
   "source": [
    "today_str = datetime.date.today().strftime('%Y%m%d')\n",
    "result_filename = 'Merged_{}.csv'.format('_'.join(sources))\n",
    "\n",
    "submission_csv_fileaname = pth.join(submission_base_path, '_'.join([today_str, result_filename]))\n",
    "submission_df.to_csv(submission_csv_fileaname, index=False)"
   ]
  },
  {
   "cell_type": "code",
   "execution_count": null,
   "metadata": {},
   "outputs": [],
   "source": []
  }
 ],
 "metadata": {
  "kernelspec": {
   "display_name": "Python 3",
   "language": "python",
   "name": "python3"
  },
  "language_info": {
   "codemirror_mode": {
    "name": "ipython",
    "version": 3
   },
   "file_extension": ".py",
   "mimetype": "text/x-python",
   "name": "python",
   "nbconvert_exporter": "python",
   "pygments_lexer": "ipython3",
   "version": "3.8.3"
  }
 },
 "nbformat": 4,
 "nbformat_minor": 4
}
