{
 "cells": [
  {
   "cell_type": "code",
   "execution_count": 1,
   "metadata": {},
   "outputs": [],
   "source": [
    "# LOAD LIBRARIES\n",
    "import numpy as np, pandas as pd, os\n",
    "import matplotlib.pyplot as plt, cv2\n",
    "import tensorflow as tf, re, math"
   ]
  },
  {
   "cell_type": "code",
   "execution_count": 2,
   "metadata": {},
   "outputs": [
    {
     "name": "stdout",
     "output_type": "stream",
     "text": [
      "There are 88108 train images and 38000 test images\n"
     ]
    }
   ],
   "source": [
    "# PATHS TO IMAGES\n",
    "PATH = './data/public/train/'\n",
    "PATH2 = './data/public/test/'\n",
    "IMGS = os.listdir(PATH); IMGS2 = os.listdir(PATH2)\n",
    "print('There are %i train images and %i test images'%(len(IMGS),len(IMGS2)))"
   ]
  },
  {
   "cell_type": "code",
   "execution_count": null,
   "metadata": {},
   "outputs": [],
   "source": [
    "# LOAD TRAIN META DATA\n",
    "df = pd.read_csv('./data/public/train.csv')\n",
    "df.rename({'image_id':'image_name'},axis=1,inplace=True)\n",
    "df.head()"
   ]
  }
 ],
 "metadata": {
  "kernelspec": {
   "display_name": "Python 3",
   "language": "python",
   "name": "python3"
  },
  "language_info": {
   "codemirror_mode": {
    "name": "ipython",
    "version": 3
   },
   "file_extension": ".py",
   "mimetype": "text/x-python",
   "name": "python",
   "nbconvert_exporter": "python",
   "pygments_lexer": "ipython3",
   "version": "3.8.3"
  }
 },
 "nbformat": 4,
 "nbformat_minor": 4
}
